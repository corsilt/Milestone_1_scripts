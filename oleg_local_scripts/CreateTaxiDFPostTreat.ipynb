{
 "cells": [
  {
   "cell_type": "code",
   "metadata": {
    "pycharm": {
     "is_executing": false
    },
    "cell_id": "00000-b092edfb-b29e-4e59-88eb-4a5197d10d24",
    "deepnote_cell_type": "code"
   },
   "source": "from dask.distributed import Client\n\nclient = Client(n_workers=8)\n",
   "execution_count": 1,
   "outputs": []
  },
  {
   "cell_type": "code",
   "metadata": {
    "pycharm": {
     "is_executing": false
    },
    "cell_id": "00001-aa73aa3f-b7b3-4ce4-bd68-c8203b0b1b00",
    "deepnote_cell_type": "code"
   },
   "source": "import csv\nimport os\nimport dask\nimport dask.dataframe as dd\nimport dask.array as da\nimport fastparquet\nimport pandas as pd\nimport altair as alt\nfrom datetime import timedelta\nimport datetime as dt\nimport matplotlib.pyplot as plt\nimport numpy as np\nfrom time import time",
   "execution_count": 2,
   "outputs": []
  },
  {
   "cell_type": "code",
   "metadata": {
    "pycharm": {
     "is_executing": false
    },
    "cell_id": "00002-98051252-bb88-4d0f-a959-44c97b363921",
    "deepnote_cell_type": "code"
   },
   "source": "df = dd.read_csv(os.path.join('data', 'yellow_tripdata_2010-*.csv'),\n                 parse_dates=['pickup_datetime','dropoff_datetime'],\n                 quoting=csv.QUOTE_NONE, encoding='utf-8', error_bad_lines=False,\n                 dtype={'trip_distance':'float64', 'store_and_fwd_flag':'object'})",
   "execution_count": 67,
   "outputs": []
  },
  {
   "cell_type": "code",
   "metadata": {
    "pycharm": {
     "is_executing": false
    },
    "cell_id": "00003-51151c7f-bed9-4a95-a340-5b77eae64f9d",
    "deepnote_cell_type": "code"
   },
   "source": "# https://towardsdatascience.com/heres-how-to-calculate-distance-between-2-geolocations-in-python-93ecab5bbba4\ndef haversine_distance(row):\n    \n    lat1 = row['pickup_latitude']\n    lon1 = row['pickup_longitude']\n    lat2 = row['dropoff_latitude']\n    lon2 = row['dropoff_longitude']\n    \n    # https://stackoverflow.com/questions/19252588/how-do-i-test-for-null-list-entry-in-python-list\n    if not all(x for x in [lat1, lon1, lat2, lon2]):\n        return row['trip_distance']\n    \n    if not all(isinstance(x, float) for x in [lat1, lon1, lat2, lon2]):\n        return row['trip_distance']\n    \n    if len([*filter(lambda x: (x < 39.0) | (x > 42.0) , [lat1, lat2])]) > 0:\n        return row['trip_distance']\n    \n    if len([*filter(lambda x: (x < -77.0) | (x > -70.0) , [lon1, lon2])]) > 0:\n        return row['trip_distance']\n    \n    r = 6371\n    phi1 = np.radians(lat1)\n    phi2 = np.radians(lat2)\n    delta_phi = np.radians(lat2 - lat1)\n    delta_lambda = np.radians(lon2 - lon1)\n    a = np.sin(delta_phi / 2)**2 + np.cos(phi1) * np.cos(phi2) *   np.sin(delta_lambda / 2)**2\n    res = r * (2 * np.arctan2(np.sqrt(a), np.sqrt(1 - a)))    \n    \n    \n    if (row['trip_distance'] < .15) | (row['trip_distance'] > 80):\n        res = res\n    else:\n        res = row['trip_distance']   \n    \n    \n    return np.round(res, 2)",
   "execution_count": 4,
   "outputs": []
  },
  {
   "cell_type": "code",
   "metadata": {
    "pycharm": {
     "is_executing": false
    },
    "cell_id": "00004-dc7ed9db-b192-49d7-9544-1a9f3572a32c",
    "deepnote_cell_type": "code"
   },
   "source": "def make_trip_distance_bins(row):\n    \n    dist = row['comp_trip_distance']\n    \n    if dist == 0:\n        res = 0\n    elif dist <= .25:\n        res = .25\n    elif dist <= .5:\n        res = .5\n    elif dist <= 1:\n        res = 1\n    elif dist <= 2:\n        res = 2\n    elif dist <= 4:\n        res = 4\n    elif dist <= 8:\n        res = 8\n    elif dist <= 16:\n        res = 16\n    elif dist <= 32:\n        res = 32\n    else:\n        res = 33\n    \n    \n    return res",
   "execution_count": 5,
   "outputs": []
  },
  {
   "cell_type": "code",
   "metadata": {
    "pycharm": {
     "is_executing": false
    },
    "cell_id": "00005-a4d59f19-555e-415f-83e4-cfe07df52237",
    "deepnote_cell_type": "code"
   },
   "source": "def make_post_treatment_time_dummy(row):\n    \n    if (dt.time(9, 0, 0) <= row.pickup_time < dt.time(12, 0, 0)):\n        res = 0\n    elif (dt.time(12, 0, 0) <= row.pickup_time < dt.time(15, 0, 0)):\n        res = 1    \n    else:\n        res = -1\n    return res",
   "execution_count": 6,
   "outputs": []
  },
  {
   "cell_type": "code",
   "metadata": {
    "pycharm": {
     "is_executing": false
    },
    "cell_id": "00006-30fd5b13-1c23-4986-84f7-3cb6bd326163",
    "deepnote_cell_type": "code"
   },
   "source": "df.isnull().sum().compute()",
   "execution_count": 7,
   "outputs": [
    {
     "data": {
      "text/plain": "vendor_id                 0\npickup_datetime           0\ndropoff_datetime          0\npassenger_count           0\ntrip_distance             0\npickup_longitude          0\npickup_latitude           0\nrate_code                 0\nstore_and_fwd_flag    91028\ndropoff_longitude         0\ndropoff_latitude          0\npayment_type              0\nfare_amount               0\nsurcharge                 0\nmta_tax                   0\ntip_amount                0\ntolls_amount              0\ntotal_amount              0\ndtype: int64"
     },
     "execution_count": 7,
     "metadata": {},
     "output_type": "execute_result"
    }
   ]
  },
  {
   "cell_type": "code",
   "metadata": {
    "pycharm": {
     "is_executing": false
    },
    "cell_id": "00007-056bb8c7-4ad5-4863-b11f-bdccdb8d529e",
    "deepnote_cell_type": "code"
   },
   "source": "df.dtypes",
   "execution_count": 10,
   "outputs": [
    {
     "data": {
      "text/plain": "vendor_id                     object\npickup_datetime       datetime64[ns]\ndropoff_datetime      datetime64[ns]\npassenger_count                int64\ntrip_distance                float64\npickup_longitude             float64\npickup_latitude              float64\nrate_code                      int64\nstore_and_fwd_flag            object\ndropoff_longitude            float64\ndropoff_latitude             float64\npayment_type                  object\nfare_amount                  float64\nsurcharge                    float64\nmta_tax                      float64\ntip_amount                   float64\ntolls_amount                 float64\ntotal_amount                 float64\ndtype: object"
     },
     "execution_count": 10,
     "metadata": {},
     "output_type": "execute_result"
    }
   ]
  },
  {
   "cell_type": "code",
   "metadata": {
    "pycharm": {
     "is_executing": false
    },
    "cell_id": "00008-ece0947c-73ae-4d7e-a3f1-40cc2bd74064",
    "deepnote_cell_type": "code"
   },
   "source": "lstToDrop = ['vendor_id', 'dropoff_datetime', 'passenger_count', 'payment_type', 'rate_code', 'store_and_fwd_flag', 'fare_amount', 'surcharge' ,'mta_tax', 'tip_amount', 'tolls_amount', 'total_amount']\n\nddf = df.drop(lstToDrop, axis=1)\nddf['pickup_date'] = ddf['pickup_datetime'].dt.date\nddf['pickup_time'] = ddf['pickup_datetime'].dt.time\n\n# https://stackoverflow.com/questions/62460171/pandas-between-time-equivalent-for-dask-dataframe\n#ddf['time_str'] = dd.to_datetime(ddf[\"pickup_datetime\"].dt.time.astype(str))\n\nddf['comp_trip_distance'] = ddf.apply(lambda row: haversine_distance(row), axis=1, meta=(None, 'float64'))\n\nddf['comp_dist_bins'] = ddf.apply(lambda row: make_trip_distance_bins(row), axis=1, meta=(None, 'float64'))\n\nlstToDrop = ['pickup_datetime', 'trip_distance', 'pickup_longitude', 'pickup_latitude', 'dropoff_longitude', 'dropoff_latitude', 'comp_trip_distance']\n\nddf = ddf.drop(lstToDrop, axis=1)\n\nddf['post_treatment_time_dummy'] = ddf.apply(lambda row: make_post_treatment_time_dummy(row), axis=1, meta=(None, 'int64'))\nddf = ddf[(ddf.post_treatment_time_dummy > -1)]\n\nddf = ddf.groupby(['pickup_date', 'comp_dist_bins', 'post_treatment_time_dummy']).count().reset_index()\nddf.columns = ['pickup_date', 'comp_dist_bins', 'post_treatment_time_dummy', 'RidesCount']\n\nddf['pickup_date'] = dd.to_datetime(ddf['pickup_date'])\n\n# monday = 0, sunday=6\nddf['pickup_day_of_week'] = ddf['pickup_date'].dt.weekday\n\n\n",
   "execution_count": 68,
   "outputs": []
  },
  {
   "cell_type": "code",
   "metadata": {
    "cell_id": "00009-17db846a-d0df-4267-8ebe-57b0e93994c8",
    "deepnote_cell_type": "code"
   },
   "source": "print(\"Start Time =\", dt.datetime.now().strftime(\"%H:%M:%S\"))\n\nt1 = time()\nddf = ddf.compute()\nddf = ddf.join(pd.get_dummies(ddf['pickup_day_of_week']))\n# https://stackoverflow.com/questions/11346283/renaming-columns-in-pandas\nddf.rename(columns={0: 'Monday', 1: 'Tuesday', 2: 'Wednesday', 3: 'Thursday', 4: 'Friday', 5: 'Saturday', 6: 'Sunday'}, inplace=True)\n\n\nddf = ddf[ddf['pickup_date'].dt.year == 2010]\n\nddf.to_csv('data/afternoon_treatment_dist_bins_2010_dow.csv', index=False )\nt2 = time()\nelapsed_s = (t2 - t1)\n\nprint(\"Stop Time =\", dt.datetime.now().strftime(\"%H:%M:%S\"))\nprint('Elapsed time is %f seconds.' % elapsed)",
   "execution_count": 69,
   "outputs": [
    {
     "name": "stdout",
     "output_type": "stream",
     "text": "Start Time = 12:39:22\nStop Time = 13:57:55\nElapsed time is 0.144816 seconds.\n"
    }
   ]
  },
  {
   "cell_type": "code",
   "metadata": {
    "pycharm": {
     "is_executing": false
    },
    "cell_id": "00010-6b51c50a-28c2-4c89-8f59-a5b548b7e509",
    "deepnote_cell_type": "code"
   },
   "source": "",
   "execution_count": 64,
   "outputs": [
    {
     "name": "stdout",
     "output_type": "stream",
     "text": "Stop Time = 12:33:56\nElapsed time is 0.144816 minutes.\n"
    }
   ]
  },
  {
   "cell_type": "code",
   "metadata": {
    "cell_id": "00011-845226b2-27c6-4daf-adf7-e0eb61d0cf32",
    "deepnote_cell_type": "code"
   },
   "source": "ddf.dtypes",
   "execution_count": 151,
   "outputs": [
    {
     "data": {
      "text/plain": "pickup_date                  datetime64[ns]\ncomp_dist_bins                      float64\npost_treatment_time_dummy             int64\nCount                                 int64\ndtype: object"
     },
     "execution_count": 151,
     "metadata": {},
     "output_type": "execute_result"
    }
   ]
  },
  {
   "cell_type": "markdown",
   "source": "<a style='text-decoration:none;line-height:16px;display:flex;color:#5B5B62;padding:10px;justify-content:end;' href='https://deepnote.com?utm_source=created-in-deepnote-cell&projectId=e5c38169-dd81-4fdb-9628-d1699354129b' target=\"_blank\">\n<img alt='Created in deepnote.com' style='display:inline;max-height:16px;margin:0px;margin-right:7.5px;' src='data:image/svg+xml;base64,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' > </img>\nCreated in <span style='font-weight:600;margin-left:4px;'>Deepnote</span></a>",
   "metadata": {
    "tags": [],
    "created_in_deepnote_cell": true,
    "deepnote_cell_type": "markdown"
   }
  }
 ],
 "nbformat": 4,
 "nbformat_minor": 1,
 "metadata": {
  "kernelspec": {
   "display_name": "Python 3",
   "language": "python",
   "name": "python3"
  },
  "language_info": {
   "codemirror_mode": {
    "name": "ipython",
    "version": 3
   },
   "file_extension": ".py",
   "mimetype": "text/x-python",
   "name": "python",
   "nbconvert_exporter": "python",
   "pygments_lexer": "ipython3",
   "version": "3.7.4"
  },
  "pycharm": {
   "stem_cell": {
    "cell_type": "raw",
    "metadata": {
     "collapsed": false
    },
    "source": []
   }
  },
  "deepnote_notebook_id": "10a7a4ff-e9e0-4629-b08c-69f71a389083",
  "deepnote": {},
  "deepnote_execution_queue": []
 }
}