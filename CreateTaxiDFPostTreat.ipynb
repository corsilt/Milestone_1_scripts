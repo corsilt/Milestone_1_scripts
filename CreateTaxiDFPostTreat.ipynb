{
 "cells": [
  {
   "cell_type": "code",
   "execution_count": 1,
   "metadata": {
    "pycharm": {
     "is_executing": false
    }
   },
   "outputs": [],
   "source": [
    "from dask.distributed import Client\n",
    "\n",
    "client = Client(n_workers=8)\n"
   ]
  },
  {
   "cell_type": "code",
   "execution_count": 2,
   "metadata": {
    "pycharm": {
     "is_executing": false
    }
   },
   "outputs": [],
   "source": [
    "import csv\n",
    "import os\n",
    "import dask\n",
    "import dask.dataframe as dd\n",
    "import dask.array as da\n",
    "import fastparquet\n",
    "import pandas as pd\n",
    "import altair as alt\n",
    "from datetime import timedelta\n",
    "import datetime as dt\n",
    "import matplotlib.pyplot as plt\n",
    "import numpy as np\n",
    "from time import time"
   ]
  },
  {
   "cell_type": "code",
   "execution_count": 67,
   "metadata": {
    "pycharm": {
     "is_executing": false
    }
   },
   "outputs": [],
   "source": [
    "df = dd.read_csv(os.path.join('data', 'yellow_tripdata_2010-*.csv'),\n",
    "                 parse_dates=['pickup_datetime','dropoff_datetime'],\n",
    "                 quoting=csv.QUOTE_NONE, encoding='utf-8', error_bad_lines=False,\n",
    "                 dtype={'trip_distance':'float64', 'store_and_fwd_flag':'object'})"
   ]
  },
  {
   "cell_type": "code",
   "execution_count": 4,
   "metadata": {
    "pycharm": {
     "is_executing": false
    }
   },
   "outputs": [],
   "source": [
    "# https://towardsdatascience.com/heres-how-to-calculate-distance-between-2-geolocations-in-python-93ecab5bbba4\n",
    "def haversine_distance(row):\n",
    "    \n",
    "    lat1 = row['pickup_latitude']\n",
    "    lon1 = row['pickup_longitude']\n",
    "    lat2 = row['dropoff_latitude']\n",
    "    lon2 = row['dropoff_longitude']\n",
    "    \n",
    "    # https://stackoverflow.com/questions/19252588/how-do-i-test-for-null-list-entry-in-python-list\n",
    "    if not all(x for x in [lat1, lon1, lat2, lon2]):\n",
    "        return row['trip_distance']\n",
    "    \n",
    "    if not all(isinstance(x, float) for x in [lat1, lon1, lat2, lon2]):\n",
    "        return row['trip_distance']\n",
    "    \n",
    "    if len([*filter(lambda x: (x < 39.0) | (x > 42.0) , [lat1, lat2])]) > 0:\n",
    "        return row['trip_distance']\n",
    "    \n",
    "    if len([*filter(lambda x: (x < -77.0) | (x > -70.0) , [lon1, lon2])]) > 0:\n",
    "        return row['trip_distance']\n",
    "    \n",
    "    r = 6371\n",
    "    phi1 = np.radians(lat1)\n",
    "    phi2 = np.radians(lat2)\n",
    "    delta_phi = np.radians(lat2 - lat1)\n",
    "    delta_lambda = np.radians(lon2 - lon1)\n",
    "    a = np.sin(delta_phi / 2)**2 + np.cos(phi1) * np.cos(phi2) *   np.sin(delta_lambda / 2)**2\n",
    "    res = r * (2 * np.arctan2(np.sqrt(a), np.sqrt(1 - a)))    \n",
    "    \n",
    "    \n",
    "    if (row['trip_distance'] < .15) | (row['trip_distance'] > 80):\n",
    "        res = res\n",
    "    else:\n",
    "        res = row['trip_distance']   \n",
    "    \n",
    "    \n",
    "    return np.round(res, 2)"
   ]
  },
  {
   "cell_type": "code",
   "execution_count": 5,
   "metadata": {
    "pycharm": {
     "is_executing": false
    }
   },
   "outputs": [],
   "source": [
    "def make_trip_distance_bins(row):\n",
    "    \n",
    "    dist = row['comp_trip_distance']\n",
    "    \n",
    "    if dist == 0:\n",
    "        res = 0\n",
    "    elif dist <= .25:\n",
    "        res = .25\n",
    "    elif dist <= .5:\n",
    "        res = .5\n",
    "    elif dist <= 1:\n",
    "        res = 1\n",
    "    elif dist <= 2:\n",
    "        res = 2\n",
    "    elif dist <= 4:\n",
    "        res = 4\n",
    "    elif dist <= 8:\n",
    "        res = 8\n",
    "    elif dist <= 16:\n",
    "        res = 16\n",
    "    elif dist <= 32:\n",
    "        res = 32\n",
    "    else:\n",
    "        res = 33\n",
    "    \n",
    "    \n",
    "    return res"
   ]
  },
  {
   "cell_type": "code",
   "execution_count": 6,
   "metadata": {
    "pycharm": {
     "is_executing": false
    }
   },
   "outputs": [],
   "source": [
    "def make_post_treatment_time_dummy(row):\n",
    "    \n",
    "    if (dt.time(9, 0, 0) <= row.pickup_time < dt.time(12, 0, 0)):\n",
    "        res = 0\n",
    "    elif (dt.time(12, 0, 0) <= row.pickup_time < dt.time(15, 0, 0)):\n",
    "        res = 1    \n",
    "    else:\n",
    "        res = -1\n",
    "    return res"
   ]
  },
  {
   "cell_type": "code",
   "execution_count": 7,
   "metadata": {
    "pycharm": {
     "is_executing": false
    }
   },
   "outputs": [
    {
     "data": {
      "text/plain": [
       "vendor_id                 0\n",
       "pickup_datetime           0\n",
       "dropoff_datetime          0\n",
       "passenger_count           0\n",
       "trip_distance             0\n",
       "pickup_longitude          0\n",
       "pickup_latitude           0\n",
       "rate_code                 0\n",
       "store_and_fwd_flag    91028\n",
       "dropoff_longitude         0\n",
       "dropoff_latitude          0\n",
       "payment_type              0\n",
       "fare_amount               0\n",
       "surcharge                 0\n",
       "mta_tax                   0\n",
       "tip_amount                0\n",
       "tolls_amount              0\n",
       "total_amount              0\n",
       "dtype: int64"
      ]
     },
     "execution_count": 7,
     "metadata": {},
     "output_type": "execute_result"
    }
   ],
   "source": [
    "df.isnull().sum().compute()"
   ]
  },
  {
   "cell_type": "code",
   "execution_count": 10,
   "metadata": {
    "pycharm": {
     "is_executing": false
    }
   },
   "outputs": [
    {
     "data": {
      "text/plain": [
       "vendor_id                     object\n",
       "pickup_datetime       datetime64[ns]\n",
       "dropoff_datetime      datetime64[ns]\n",
       "passenger_count                int64\n",
       "trip_distance                float64\n",
       "pickup_longitude             float64\n",
       "pickup_latitude              float64\n",
       "rate_code                      int64\n",
       "store_and_fwd_flag            object\n",
       "dropoff_longitude            float64\n",
       "dropoff_latitude             float64\n",
       "payment_type                  object\n",
       "fare_amount                  float64\n",
       "surcharge                    float64\n",
       "mta_tax                      float64\n",
       "tip_amount                   float64\n",
       "tolls_amount                 float64\n",
       "total_amount                 float64\n",
       "dtype: object"
      ]
     },
     "execution_count": 10,
     "metadata": {},
     "output_type": "execute_result"
    }
   ],
   "source": [
    "df.dtypes"
   ]
  },
  {
   "cell_type": "code",
   "execution_count": 68,
   "metadata": {
    "pycharm": {
     "is_executing": false
    }
   },
   "outputs": [],
   "source": [
    "lstToDrop = ['vendor_id', 'dropoff_datetime', 'passenger_count', 'payment_type', 'rate_code', 'store_and_fwd_flag', 'fare_amount', 'surcharge' ,'mta_tax', 'tip_amount', 'tolls_amount', 'total_amount']\n",
    "\n",
    "ddf = df.drop(lstToDrop, axis=1)\n",
    "ddf['pickup_date'] = ddf['pickup_datetime'].dt.date\n",
    "ddf['pickup_time'] = ddf['pickup_datetime'].dt.time\n",
    "\n",
    "# https://stackoverflow.com/questions/62460171/pandas-between-time-equivalent-for-dask-dataframe\n",
    "#ddf['time_str'] = dd.to_datetime(ddf[\"pickup_datetime\"].dt.time.astype(str))\n",
    "\n",
    "ddf['comp_trip_distance'] = ddf.apply(lambda row: haversine_distance(row), axis=1, meta=(None, 'float64'))\n",
    "\n",
    "ddf['comp_dist_bins'] = ddf.apply(lambda row: make_trip_distance_bins(row), axis=1, meta=(None, 'float64'))\n",
    "\n",
    "lstToDrop = ['pickup_datetime', 'trip_distance', 'pickup_longitude', 'pickup_latitude', 'dropoff_longitude', 'dropoff_latitude', 'comp_trip_distance']\n",
    "\n",
    "ddf = ddf.drop(lstToDrop, axis=1)\n",
    "\n",
    "ddf['post_treatment_time_dummy'] = ddf.apply(lambda row: make_post_treatment_time_dummy(row), axis=1, meta=(None, 'int64'))\n",
    "ddf = ddf[(ddf.post_treatment_time_dummy > -1)]\n",
    "\n",
    "ddf = ddf.groupby(['pickup_date', 'comp_dist_bins', 'post_treatment_time_dummy']).count().reset_index()\n",
    "ddf.columns = ['pickup_date', 'comp_dist_bins', 'post_treatment_time_dummy', 'RidesCount']\n",
    "\n",
    "ddf['pickup_date'] = dd.to_datetime(ddf['pickup_date'])\n",
    "\n",
    "# monday = 0, sunday=6\n",
    "ddf['pickup_day_of_week'] = ddf['pickup_date'].dt.weekday\n",
    "\n",
    "\n"
   ]
  },
  {
   "cell_type": "code",
   "execution_count": 69,
   "metadata": {},
   "outputs": [
    {
     "name": "stdout",
     "output_type": "stream",
     "text": [
      "Start Time = 12:39:22\n",
      "Stop Time = 13:57:55\n",
      "Elapsed time is 0.144816 seconds.\n"
     ]
    }
   ],
   "source": [
    "print(\"Start Time =\", dt.datetime.now().strftime(\"%H:%M:%S\"))\n",
    "\n",
    "t1 = time()\n",
    "ddf = ddf.compute()\n",
    "ddf = ddf.join(pd.get_dummies(ddf['pickup_day_of_week']))\n",
    "# https://stackoverflow.com/questions/11346283/renaming-columns-in-pandas\n",
    "ddf.rename(columns={0: 'Monday', 1: 'Tuesday', 2: 'Wednesday', 3: 'Thursday', 4: 'Friday', 5: 'Saturday', 6: 'Sunday'}, inplace=True)\n",
    "\n",
    "\n",
    "ddf = ddf[ddf['pickup_date'].dt.year == 2010]\n",
    "\n",
    "ddf.to_csv('data/afternoon_treatment_dist_bins_2010_dow.csv', index=False )\n",
    "t2 = time()\n",
    "elapsed_s = (t2 - t1)\n",
    "\n",
    "print(\"Stop Time =\", dt.datetime.now().strftime(\"%H:%M:%S\"))\n",
    "print('Elapsed time is %f seconds.' % elapsed)"
   ]
  },
  {
   "cell_type": "code",
   "execution_count": 64,
   "metadata": {
    "pycharm": {
     "is_executing": false
    }
   },
   "outputs": [
    {
     "name": "stdout",
     "output_type": "stream",
     "text": [
      "Stop Time = 12:33:56\n",
      "Elapsed time is 0.144816 minutes.\n"
     ]
    }
   ],
   "source": []
  },
  {
   "cell_type": "code",
   "execution_count": 151,
   "metadata": {},
   "outputs": [
    {
     "data": {
      "text/plain": [
       "pickup_date                  datetime64[ns]\n",
       "comp_dist_bins                      float64\n",
       "post_treatment_time_dummy             int64\n",
       "Count                                 int64\n",
       "dtype: object"
      ]
     },
     "execution_count": 151,
     "metadata": {},
     "output_type": "execute_result"
    }
   ],
   "source": [
    "ddf.dtypes"
   ]
  }
 ],
 "metadata": {
  "kernelspec": {
   "display_name": "Python 3",
   "language": "python",
   "name": "python3"
  },
  "language_info": {
   "codemirror_mode": {
    "name": "ipython",
    "version": 3
   },
   "file_extension": ".py",
   "mimetype": "text/x-python",
   "name": "python",
   "nbconvert_exporter": "python",
   "pygments_lexer": "ipython3",
   "version": "3.7.4"
  },
  "pycharm": {
   "stem_cell": {
    "cell_type": "raw",
    "metadata": {
     "collapsed": false
    },
    "source": []
   }
  }
 },
 "nbformat": 4,
 "nbformat_minor": 1
}
