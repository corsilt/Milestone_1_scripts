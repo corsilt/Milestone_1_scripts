{
 "cells": [
  {
   "cell_type": "code",
   "metadata": {
    "tags": [],
    "cell_id": "00000-d32cb469-65a9-4b7d-bb52-fd3bc880921a",
    "deepnote_to_be_reexecuted": false,
    "source_hash": "f01204a9",
    "execution_start": 1620834497770,
    "execution_millis": 3,
    "deepnote_cell_type": "code"
   },
   "source": "import pandas as pd\nimport numpy as np\n",
   "execution_count": null,
   "outputs": []
  },
  {
   "cell_type": "code",
   "metadata": {
    "tags": [],
    "cell_id": "00001-cde79c3e-6ab7-4eea-a29a-26ca0c1fe5ad",
    "deepnote_to_be_reexecuted": false,
    "source_hash": "a9668975",
    "execution_start": 1620834497776,
    "execution_millis": 191,
    "deepnote_cell_type": "code"
   },
   "source": "df = pd.read_csv('/work/MADS_592/data/hourly-2010.csv')",
   "execution_count": null,
   "outputs": [
    {
     "name": "stderr",
     "text": "/shared-libs/python3.7/py-core/lib/python3.7/site-packages/IPython/core/interactiveshell.py:3170: DtypeWarning: Columns (3,33,42,43,46,51,73,95) have mixed types.Specify dtype option on import or set low_memory=False.\n  interactivity=interactivity, compiler=compiler, result=result)\n",
     "output_type": "stream"
    }
   ]
  },
  {
   "cell_type": "code",
   "metadata": {
    "tags": [],
    "cell_id": "00002-9bc50fdd-4cc5-471e-9830-0f23163395d7",
    "deepnote_to_be_reexecuted": false,
    "source_hash": "8cc5ae14",
    "execution_start": 1620834497964,
    "execution_millis": 6,
    "deepnote_cell_type": "code"
   },
   "source": "cols = ['HourlyPresentWeatherType','DATE','HourlyPrecipitation']\na = list(df['HourlyPresentWeatherType'].unique())",
   "execution_count": null,
   "outputs": []
  },
  {
   "cell_type": "code",
   "metadata": {
    "tags": [],
    "cell_id": "00004-28e3cac1-e0b9-4b82-b13f-c627099d5ec8",
    "deepnote_to_be_reexecuted": false,
    "source_hash": "3a40c2ee",
    "execution_start": 1620834498025,
    "execution_millis": 1,
    "deepnote_cell_type": "code"
   },
   "source": "df_temp = df.copy()[cols]\ndf_temp = df_temp.fillna('a')",
   "execution_count": null,
   "outputs": []
  },
  {
   "cell_type": "code",
   "metadata": {
    "tags": [],
    "cell_id": "00006-3e47d3d9-7bf2-4a8a-98c9-4f98632527bd",
    "deepnote_to_be_reexecuted": false,
    "source_hash": "aafc378a",
    "execution_start": 1620834498026,
    "execution_millis": 0,
    "deepnote_cell_type": "code"
   },
   "source": "# df_temp['rain_dummy_plus'] = df_temp['HourlyPresentWeatherType'].str.contains(r'^[\\+]RA').astype(int) # only +RA\n# df_temp['rain_dummy'] = df_temp['HourlyPresentWeatherType'].str.contains(r'^RA').astype(int) # only RA\ndf_temp['rain_dummy_both'] = df_temp['HourlyPresentWeatherType'].str.contains(r'RA').astype(int)",
   "execution_count": null,
   "outputs": []
  },
  {
   "cell_type": "code",
   "metadata": {
    "tags": [],
    "cell_id": "00007-2855d9e5-5498-4f06-a11f-0c325fd3dbf6",
    "deepnote_to_be_reexecuted": false,
    "source_hash": "c6d7f28e",
    "execution_start": 1620834498027,
    "execution_millis": 0,
    "deepnote_cell_type": "code"
   },
   "source": "# find start of rain\ndf_temp['rain_starts_both'] =df_temp['rain_dummy_both'].diff(1)",
   "execution_count": null,
   "outputs": []
  },
  {
   "cell_type": "code",
   "metadata": {
    "tags": [],
    "cell_id": "00008-92c37e56-9822-4043-8cc4-05759adb7051",
    "deepnote_to_be_reexecuted": false,
    "source_hash": "ba4819f5",
    "execution_start": 1620834498030,
    "execution_millis": 4,
    "deepnote_cell_type": "code"
   },
   "source": "d= df_temp[df_temp['rain_starts_both'] ==1]",
   "execution_count": null,
   "outputs": []
  },
  {
   "cell_type": "code",
   "metadata": {
    "tags": [],
    "cell_id": "00008-f4ba150a-7827-4574-9092-95f892b3a796",
    "deepnote_to_be_reexecuted": false,
    "source_hash": "ddfe0b5e",
    "execution_start": 1620834498061,
    "execution_millis": 0,
    "deepnote_cell_type": "code"
   },
   "source": "# get consecutive counts for rain\n#https://stackoverflow.com/questions/27626542/counting-consecutive-positive-value-in-python-array\ny = df_temp['rain_dummy_both'] \ndf_temp['rain_consecutive'] = y * (y.groupby((y != y.shift()).cumsum()).cumcount() + 1)\n",
   "execution_count": null,
   "outputs": []
  },
  {
   "cell_type": "code",
   "metadata": {
    "tags": [],
    "cell_id": "00009-5df0c1b1-8fc0-4093-ab37-638fa3f15b91",
    "deepnote_to_be_reexecuted": false,
    "source_hash": "1f0350d0",
    "execution_start": 1620834498062,
    "execution_millis": 0,
    "deepnote_cell_type": "code"
   },
   "source": "f = df_temp[df_temp['rain_consecutive'] > 4]",
   "execution_count": null,
   "outputs": []
  },
  {
   "cell_type": "code",
   "metadata": {
    "tags": [],
    "cell_id": "00011-606bc8b2-2070-4e9f-966f-8d66b00010dc",
    "deepnote_to_be_reexecuted": false,
    "source_hash": "d8bb1e1e",
    "execution_start": 1620834498068,
    "execution_millis": 1,
    "deepnote_cell_type": "code"
   },
   "source": "# idx 2245, consec =5, 2245-4\n#df_temp.iloc[2238:2250]",
   "execution_count": null,
   "outputs": []
  },
  {
   "cell_type": "code",
   "metadata": {
    "tags": [],
    "cell_id": "00011-65b78fcc-1b78-408f-b69b-2cdb35836944",
    "deepnote_to_be_reexecuted": false,
    "source_hash": "cec6e4",
    "execution_start": 1620834498126,
    "execution_millis": 1,
    "deepnote_cell_type": "code"
   },
   "source": "rain_idx_temp = list(f['rain_consecutive'].iteritems())",
   "execution_count": null,
   "outputs": []
  },
  {
   "cell_type": "code",
   "metadata": {
    "tags": [],
    "cell_id": "00013-f60e52be-8910-4508-a513-47f5d8a769bf",
    "deepnote_to_be_reexecuted": false,
    "source_hash": "e5b9abee",
    "execution_start": 1620834498132,
    "execution_millis": 0,
    "deepnote_cell_type": "code"
   },
   "source": "rain_idx_final =[(i[0] - i[1] ) for i in rain_idx_temp]",
   "execution_count": null,
   "outputs": []
  },
  {
   "cell_type": "code",
   "metadata": {
    "tags": [],
    "cell_id": "00015-604c66a4-eee6-4319-8b48-b210df19e414",
    "deepnote_to_be_reexecuted": false,
    "source_hash": "54949d87",
    "execution_start": 1620834498147,
    "execution_millis": 0,
    "deepnote_cell_type": "code"
   },
   "source": "idxs = list(set(rain_idx_final))",
   "execution_count": null,
   "outputs": []
  },
  {
   "cell_type": "code",
   "metadata": {
    "tags": [],
    "cell_id": "00016-5e08b679-f544-473f-a834-b0866868db8f",
    "deepnote_to_be_reexecuted": false,
    "source_hash": "e022d08b",
    "execution_start": 1620834498159,
    "execution_millis": 85,
    "deepnote_cell_type": "code"
   },
   "source": "pd.DataFrame(df.iloc[idxs].sort_values(by='DATE')['DATE'])",
   "execution_count": null,
   "outputs": [
    {
     "output_type": "execute_result",
     "execution_count": 18,
     "data": {
      "application/vnd.deepnote.dataframe.v2+json": {
       "row_count": 81,
       "column_count": 1,
       "columns": [
        {
         "name": "DATE",
         "dtype": "object",
         "stats": {
          "unique_count": 81,
          "nan_count": 0,
          "categories": [
           {
            "name": "2010-01-17T11:51:00",
            "count": 1
           },
           {
            "name": "2010-01-17T17:09:00",
            "count": 1
           },
           {
            "name": "79 others",
            "count": 79
           }
          ]
         }
        },
        {
         "name": "_deepnote_index_column",
         "dtype": "int64"
        }
       ],
       "rows_top": [
        {
         "DATE": "2010-01-17T11:51:00",
         "_deepnote_index_column": 471
        },
        {
         "DATE": "2010-01-17T17:09:00",
         "_deepnote_index_column": 487
        },
        {
         "DATE": "2010-01-25T08:51:00",
         "_deepnote_index_column": 723
        },
        {
         "DATE": "2010-02-23T07:51:00",
         "_deepnote_index_column": 1591
        },
        {
         "DATE": "2010-02-23T17:51:00",
         "_deepnote_index_column": 1616
        },
        {
         "DATE": "2010-02-23T23:59:00",
         "_deepnote_index_column": 1629
        },
        {
         "DATE": "2010-03-12T11:51:00",
         "_deepnote_index_column": 2181
        },
        {
         "DATE": "2010-03-13T00:51:00",
         "_deepnote_index_column": 2201
        },
        {
         "DATE": "2010-03-14T09:26:00",
         "_deepnote_index_column": 2264
        },
        {
         "DATE": "2010-03-15T00:28:00",
         "_deepnote_index_column": 2289
        },
        {
         "DATE": "2010-03-22T17:51:00",
         "_deepnote_index_column": 2519
        },
        {
         "DATE": "2010-03-22T21:16:00",
         "_deepnote_index_column": 2528
        },
        {
         "DATE": "2010-03-28T19:51:00",
         "_deepnote_index_column": 2731
        },
        {
         "DATE": "2010-03-28T23:59:00",
         "_deepnote_index_column": 2738
        },
        {
         "DATE": "2010-03-29T08:51:00",
         "_deepnote_index_column": 2757
        },
        {
         "DATE": "2010-03-29T18:59:00",
         "_deepnote_index_column": 2794
        },
        {
         "DATE": "2010-03-30T02:51:00",
         "_deepnote_index_column": 2811
        },
        {
         "DATE": "2010-03-30T14:51:00",
         "_deepnote_index_column": 2839
        },
        {
         "DATE": "2010-04-09T00:51:00",
         "_deepnote_index_column": 3116
        },
        {
         "DATE": "2010-04-16T18:51:00",
         "_deepnote_index_column": 3319
        },
        {
         "DATE": "2010-04-24T23:59:00",
         "_deepnote_index_column": 3552
        },
        {
         "DATE": "2010-04-25T20:51:00",
         "_deepnote_index_column": 3600
        },
        {
         "DATE": "2010-04-26T15:51:00",
         "_deepnote_index_column": 3632
        },
        {
         "DATE": "2010-04-26T18:51:00",
         "_deepnote_index_column": 3641
        },
        {
         "DATE": "2010-05-03T01:51:00",
         "_deepnote_index_column": 3818
        },
        {
         "DATE": "2010-05-03T04:51:00",
         "_deepnote_index_column": 3829
        },
        {
         "DATE": "2010-05-11T23:59:00",
         "_deepnote_index_column": 4071
        },
        {
         "DATE": "2010-05-18T08:51:00",
         "_deepnote_index_column": 4263
        },
        {
         "DATE": "2010-05-18T12:34:00",
         "_deepnote_index_column": 4273
        },
        {
         "DATE": "2010-06-09T12:51:00",
         "_deepnote_index_column": 4891
        },
        {
         "DATE": "2010-06-09T19:20:00",
         "_deepnote_index_column": 4913
        },
        {
         "DATE": "2010-06-13T13:51:00",
         "_deepnote_index_column": 5049
        },
        {
         "DATE": "2010-06-16T23:59:00",
         "_deepnote_index_column": 5186
        },
        {
         "DATE": "2010-06-22T17:51:00",
         "_deepnote_index_column": 5342
        },
        {
         "DATE": "2010-07-13T11:13:00",
         "_deepnote_index_column": 5929
        },
        {
         "DATE": "2010-07-14T08:33:00",
         "_deepnote_index_column": 5986
        },
        {
         "DATE": "2010-07-19T08:05:00",
         "_deepnote_index_column": 6146
        },
        {
         "DATE": "2010-07-23T18:51:00",
         "_deepnote_index_column": 6265
        },
        {
         "DATE": "2010-07-25T14:51:00",
         "_deepnote_index_column": 6323
        },
        {
         "DATE": "2010-08-15T15:51:00",
         "_deepnote_index_column": 6881
        },
        {
         "DATE": "2010-08-22T03:24:00",
         "_deepnote_index_column": 7067
        },
        {
         "DATE": "2010-08-22T08:03:00",
         "_deepnote_index_column": 7093
        },
        {
         "DATE": "2010-08-22T12:51:00",
         "_deepnote_index_column": 7103
        },
        {
         "DATE": "2010-08-22T18:30:00",
         "_deepnote_index_column": 7123
        },
        {
         "DATE": "2010-08-22T20:07:00",
         "_deepnote_index_column": 7131
        },
        {
         "DATE": "2010-08-23T05:01:00",
         "_deepnote_index_column": 7156
        },
        {
         "DATE": "2010-08-23T08:51:00",
         "_deepnote_index_column": 7172
        },
        {
         "DATE": "2010-08-25T02:51:00",
         "_deepnote_index_column": 7232
        },
        {
         "DATE": "2010-08-25T07:37:00",
         "_deepnote_index_column": 7250
        },
        {
         "DATE": "2010-09-12T15:10:00",
         "_deepnote_index_column": 7739
        },
        {
         "DATE": "2010-09-13T16:51:00",
         "_deepnote_index_column": 7788
        },
        {
         "DATE": "2010-09-27T06:53:00",
         "_deepnote_index_column": 8423
        },
        {
         "DATE": "2010-10-01T04:00:00",
         "_deepnote_index_column": 8776
        },
        {
         "DATE": "2010-10-01T06:53:00",
         "_deepnote_index_column": 8793
        },
        {
         "DATE": "2010-10-01T07:53:00",
         "_deepnote_index_column": 8802
        },
        {
         "DATE": "2010-10-01T14:51:00",
         "_deepnote_index_column": 8835
        },
        {
         "DATE": "2010-10-01T16:00:00",
         "_deepnote_index_column": 8844
        },
        {
         "DATE": "2010-10-04T11:53:00",
         "_deepnote_index_column": 9027
        },
        {
         "DATE": "2010-10-04T15:51:00",
         "_deepnote_index_column": 9046
        },
        {
         "DATE": "2010-10-11T18:53:00",
         "_deepnote_index_column": 9502
        },
        {
         "DATE": "2010-10-12T02:09:00",
         "_deepnote_index_column": 9540
        },
        {
         "DATE": "2010-10-14T18:53:00",
         "_deepnote_index_column": 9700
        },
        {
         "DATE": "2010-10-14T19:53:00",
         "_deepnote_index_column": 9707
        },
        {
         "DATE": "2010-10-27T14:51:00",
         "_deepnote_index_column": 10532
        },
        {
         "DATE": "2010-11-04T04:53:00",
         "_deepnote_index_column": 11021
        },
        {
         "DATE": "2010-11-04T10:00:00",
         "_deepnote_index_column": 11042
        },
        {
         "DATE": "2010-11-05T01:51:00",
         "_deepnote_index_column": 11118
        },
        {
         "DATE": "2010-11-05T02:51:00",
         "_deepnote_index_column": 11124
        },
        {
         "DATE": "2010-11-08T03:51:00",
         "_deepnote_index_column": 11348
        },
        {
         "DATE": "2010-11-08T08:51:00",
         "_deepnote_index_column": 11364
        },
        {
         "DATE": "2010-11-10T06:51:00",
         "_deepnote_index_column": 11516
        },
        {
         "DATE": "2010-11-10T08:51:00",
         "_deepnote_index_column": 11527
        },
        {
         "DATE": "2010-11-17T04:00:00",
         "_deepnote_index_column": 12041
        },
        {
         "DATE": "2010-11-26T00:53:00",
         "_deepnote_index_column": 12544
        },
        {
         "DATE": "2010-12-01T10:00:00",
         "_deepnote_index_column": 12872
        },
        {
         "DATE": "2010-12-01T12:53:00",
         "_deepnote_index_column": 12887
        },
        {
         "DATE": "2010-12-01T13:53:00",
         "_deepnote_index_column": 12893
        },
        {
         "DATE": "2010-12-12T10:00:00",
         "_deepnote_index_column": 13519
        },
        {
         "DATE": "2010-12-12T16:51:00",
         "_deepnote_index_column": 13545
        },
        {
         "DATE": "2010-12-12T22:24:00",
         "_deepnote_index_column": 13566
        },
        {
         "DATE": "2010-12-13T01:24:00",
         "_deepnote_index_column": 13582
        }
       ],
       "rows_bottom": null
      },
      "text/plain": "                      DATE\n471    2010-01-17T11:51:00\n487    2010-01-17T17:09:00\n723    2010-01-25T08:51:00\n1591   2010-02-23T07:51:00\n1616   2010-02-23T17:51:00\n...                    ...\n12893  2010-12-01T13:53:00\n13519  2010-12-12T10:00:00\n13545  2010-12-12T16:51:00\n13566  2010-12-12T22:24:00\n13582  2010-12-13T01:24:00\n\n[81 rows x 1 columns]",
      "text/html": "<div>\n<style scoped>\n    .dataframe tbody tr th:only-of-type {\n        vertical-align: middle;\n    }\n\n    .dataframe tbody tr th {\n        vertical-align: top;\n    }\n\n    .dataframe thead th {\n        text-align: right;\n    }\n</style>\n<table border=\"1\" class=\"dataframe\">\n  <thead>\n    <tr style=\"text-align: right;\">\n      <th></th>\n      <th>DATE</th>\n    </tr>\n  </thead>\n  <tbody>\n    <tr>\n      <th>471</th>\n      <td>2010-01-17T11:51:00</td>\n    </tr>\n    <tr>\n      <th>487</th>\n      <td>2010-01-17T17:09:00</td>\n    </tr>\n    <tr>\n      <th>723</th>\n      <td>2010-01-25T08:51:00</td>\n    </tr>\n    <tr>\n      <th>1591</th>\n      <td>2010-02-23T07:51:00</td>\n    </tr>\n    <tr>\n      <th>1616</th>\n      <td>2010-02-23T17:51:00</td>\n    </tr>\n    <tr>\n      <th>...</th>\n      <td>...</td>\n    </tr>\n    <tr>\n      <th>12893</th>\n      <td>2010-12-01T13:53:00</td>\n    </tr>\n    <tr>\n      <th>13519</th>\n      <td>2010-12-12T10:00:00</td>\n    </tr>\n    <tr>\n      <th>13545</th>\n      <td>2010-12-12T16:51:00</td>\n    </tr>\n    <tr>\n      <th>13566</th>\n      <td>2010-12-12T22:24:00</td>\n    </tr>\n    <tr>\n      <th>13582</th>\n      <td>2010-12-13T01:24:00</td>\n    </tr>\n  </tbody>\n</table>\n<p>81 rows × 1 columns</p>\n</div>"
     },
     "metadata": {}
    }
   ]
  },
  {
   "cell_type": "code",
   "metadata": {
    "tags": [],
    "cell_id": "00017-7983263d-33ba-4fe7-a187-25d60a11d674",
    "deepnote_to_be_reexecuted": false,
    "source_hash": "b623e53d",
    "execution_start": 1620834498173,
    "execution_millis": 1,
    "deepnote_cell_type": "code"
   },
   "source": "",
   "execution_count": null,
   "outputs": []
  },
  {
   "cell_type": "markdown",
   "source": "<a style='text-decoration:none;line-height:16px;display:flex;color:#5B5B62;padding:10px;justify-content:end;' href='https://deepnote.com?utm_source=created-in-deepnote-cell&projectId=e5c38169-dd81-4fdb-9628-d1699354129b' target=\"_blank\">\n<img alt='Created in deepnote.com' style='display:inline;max-height:16px;margin:0px;margin-right:7.5px;' src='data:image/svg+xml;base64,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' > </img>\nCreated in <span style='font-weight:600;margin-left:4px;'>Deepnote</span></a>",
   "metadata": {
    "tags": [],
    "created_in_deepnote_cell": true,
    "deepnote_cell_type": "markdown"
   }
  }
 ],
 "nbformat": 4,
 "nbformat_minor": 2,
 "metadata": {
  "orig_nbformat": 2,
  "deepnote": {
   "is_reactive": false
  },
  "deepnote_notebook_id": "b25f9514-390b-4615-a9d2-0dad14a8281b",
  "deepnote_execution_queue": []
 }
}